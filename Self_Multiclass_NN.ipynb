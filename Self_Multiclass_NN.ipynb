{
 "cells": [
  {
   "cell_type": "markdown",
   "metadata": {
    "colab": {},
    "colab_type": "code",
    "id": "jLDisQ6gAaMQ"
   },
   "source": [
    "## Part 1 : Without Libraries"
   ]
  },
  {
   "cell_type": "code",
   "execution_count": 1,
   "metadata": {},
   "outputs": [],
   "source": [
    "import numpy as np\n",
    "import matplotlib.pyplot as plt\n",
    "import sklearn\n",
    "from sklearn.datasets import load_iris"
   ]
  },
  {
   "cell_type": "code",
   "execution_count": 2,
   "metadata": {
    "colab": {},
    "colab_type": "code",
    "id": "pwyZu2ibAhO1"
   },
   "outputs": [],
   "source": [
    "def loadIrisData():\n",
    "    iris = load_iris()\n",
    "    X=iris['data']\n",
    "    t=iris['target']\n",
    "    return X, t"
   ]
  },
  {
   "cell_type": "code",
   "execution_count": 3,
   "metadata": {
    "colab": {},
    "colab_type": "code",
    "id": "48_5__HzBks_"
   },
   "outputs": [],
   "source": [
    "def one_hot_encoding(t_indices, N):\n",
    "    '''\n",
    "    Inputs:\n",
    "        t_indices: list of indices\n",
    "        N: total no. of classes\n",
    "    '''\n",
    "    assert N>max(t_indices), (N, max(t_indices))\n",
    "    ### WRITE YOUR CODE HERE - 2 MARKS\n",
    "    t_1hot = np.zeros((len(t_indices), N))\n",
    "    for i in range(len(t_indices)) : t_1hot[i, t_indices[i]]=1\n",
    "    return t_1hot"
   ]
  },
  {
   "cell_type": "code",
   "execution_count": 4,
   "metadata": {
    "colab": {},
    "colab_type": "code",
    "id": "m2DsnXa89lIk"
   },
   "outputs": [
    {
     "name": "stdout",
     "output_type": "stream",
     "text": [
      "Test passed 👍\n"
     ]
    }
   ],
   "source": [
    "def test_one_hot_encoding():\n",
    "    t_1hot = one_hot_encoding([0,2], 3)\n",
    "    t_1hotTrue = np.array([[1.,0.,0.], [0.,0.,1.]])\n",
    "    assert np.all(np.isclose( t_1hot, t_1hotTrue ))\n",
    "    print('Test passed', '\\U0001F44D')\n",
    "if __name__==\"__main__\":\n",
    "    test_one_hot_encoding()"
   ]
  },
  {
   "cell_type": "code",
   "execution_count": 5,
   "metadata": {
    "colab": {},
    "colab_type": "code",
    "id": "VXxxA2YkB_I8"
   },
   "outputs": [],
   "source": [
    "def splitData(X, t, testFraction=0.2):\n",
    "    \"\"\"\n",
    "    Use numpy functions only\n",
    "    Inputs:\n",
    "        X: np array of shape (Nsamples, dim)\n",
    "        t: np array of len Nsamples; can be one hot vectors or labels\n",
    "        testFraction: (float) Nsamples_test = testFraction * Nsamples\n",
    "    \"\"\"\n",
    "\n",
    "    ### WRITE YOUR CODE HERE - 2 MARKS\n",
    "    N = len(t)\n",
    "#     rand_indices = np.array([k for k in range(N)])\n",
    "#     np.random.shuffle(rand_indices)\n",
    "    rand_indices = np.random.permutation(len(t))\n",
    "#     print(rand_indices)\n",
    "    M = int(N*(1-testFraction))\n",
    "    # Train Random\n",
    "    train_rand_indices = rand_indices[:M]\n",
    "    X_train = X[train_rand_indices]\n",
    "    t_train = t[train_rand_indices]\n",
    "    # Test Random\n",
    "    test_rand_indices = rand_indices[M:]\n",
    "    X_test = X[test_rand_indices]\n",
    "    t_test = t[test_rand_indices]\n",
    "    return X_train, t_train, X_test, t_test"
   ]
  },
  {
   "cell_type": "code",
   "execution_count": 6,
   "metadata": {
    "colab": {},
    "colab_type": "code",
    "id": "-k-8UmqKQlBj"
   },
   "outputs": [
    {
     "name": "stdout",
     "output_type": "stream",
     "text": [
      "Test passed 👍\n"
     ]
    }
   ],
   "source": [
    "def test_splitData():\n",
    "    X = np.random.random((5,2))\n",
    "    t1hot = one_hot_encoding([1,0,2,1,2],3)\n",
    "    X_train, t1hot_train, X_test, t1hot_test = splitData(X,t1hot,.2)\n",
    "    assert X_train.shape==(4,2), [\"X_train.shape\", X_train.shape]\n",
    "    assert X_test.shape==(1,2), [\"X_test.shape\", X_test.shape]\n",
    "    print('Test passed', '\\U0001F44D')    \n",
    "if __name__==\"__main__\":\n",
    "    test_splitData()"
   ]
  },
  {
   "cell_type": "code",
   "execution_count": 7,
   "metadata": {
    "colab": {},
    "colab_type": "code",
    "id": "OK2lZ6ZpCjAg"
   },
   "outputs": [],
   "source": [
    "### Normalize data to be of zero mean and unit variance\n",
    "def normalizeX(X_train, X_test):\n",
    "    '''\n",
    "    Inputs:\n",
    "        X_train: np array 2d\n",
    "        X_test: np array 2d\n",
    "    Outputs:\n",
    "        Normalized np arrays 2d\n",
    "    '''\n",
    "\n",
    "    ### WRITE YOUR CODE HERE - 2 MARKS\n",
    "    X_train_normalized = (X_train - X_train.mean(axis=0))/X_train.std(axis=0)\n",
    "    X_test_normalized = (X_test - X_train.mean(axis=0))/X_train.std(axis=0)\n",
    "    return X_train_normalized, X_test_normalized"
   ]
  },
  {
   "cell_type": "code",
   "execution_count": 8,
   "metadata": {
    "colab": {},
    "colab_type": "code",
    "id": "PxiMY-kyQlBn"
   },
   "outputs": [
    {
     "name": "stdout",
     "output_type": "stream",
     "text": [
      "Test passed 👍\n"
     ]
    }
   ],
   "source": [
    "def test_normalizeX():\n",
    "    X_train = np.array([[1,1,0],[2,2,1]])\n",
    "    X_test = np.array([[1,1,0],[3,3,2]])\n",
    "    X_train_normalized, X_test_normalized = normalizeX(X_train, X_test)\n",
    "    # normalize with train mean and variance\n",
    "    a = np.array([[-1.,-1.,-1.], [ 1., 1., 1.]])\n",
    "    b = np.array([[-1.,-1.,-1.], [ 3., 3., 3.]])\n",
    "    assert np.all(np.isclose( X_train_normalized, a )), a\n",
    "    assert np.all(np.isclose( X_test_normalized, b )), b\n",
    "    print('Test passed', '\\U0001F44D')    \n",
    "if __name__==\"__main__\":\n",
    "    test_normalizeX()"
   ]
  },
  {
   "cell_type": "code",
   "execution_count": 9,
   "metadata": {
    "colab": {},
    "colab_type": "code",
    "id": "AJ_OSEoQLEuc"
   },
   "outputs": [],
   "source": [
    "def sigmoid(x):\n",
    "    '''\n",
    "    Input:\n",
    "        x: numpy array of any shape\n",
    "    Output:\n",
    "        y: numpy array of same shape as x\n",
    "    '''\n",
    "\n",
    "    ### WRITE YOUR CODE HERE - 1 MARKS\n",
    "    y = 1/(1+np.exp(-x))\n",
    "    return y"
   ]
  },
  {
   "cell_type": "code",
   "execution_count": 10,
   "metadata": {
    "colab": {},
    "colab_type": "code",
    "id": "N0jWRBXnQlBs"
   },
   "outputs": [
    {
     "name": "stdout",
     "output_type": "stream",
     "text": [
      "Test passed 👍\n"
     ]
    }
   ],
   "source": [
    "def test_sigmoid():\n",
    "    x = np.array([np.log(4),np.log(0.25),0])\n",
    "    y = sigmoid(x)\n",
    "    assert np.all(np.isclose( y, np.array([0.8, 0.2, 0.5]) )), y\n",
    "    print('Test passed', '\\U0001F44D')    \n",
    "if __name__==\"__main__\":\n",
    "    test_sigmoid()"
   ]
  },
  {
   "cell_type": "code",
   "execution_count": 11,
   "metadata": {
    "colab": {},
    "colab_type": "code",
    "id": "bHI6hezDQlBu"
   },
   "outputs": [],
   "source": [
    "def softmax(x):\n",
    "    '''\n",
    "    Input:\n",
    "        x: numpy array of any shape\n",
    "    Output:\n",
    "        y: numpy array of same shape as x\n",
    "    '''\n",
    "    ### WRITE YOUR CODE HERE - 1 MARKS\n",
    "    y = np.exp(x)/np.sum(np.exp(x), axis=0)\n",
    "    return y"
   ]
  },
  {
   "cell_type": "code",
   "execution_count": 12,
   "metadata": {
    "colab": {},
    "colab_type": "code",
    "id": "Vz3Ff0xgQlBx"
   },
   "outputs": [
    {
     "name": "stdout",
     "output_type": "stream",
     "text": [
      "Test passed 👍\n"
     ]
    }
   ],
   "source": [
    "def test_softmax():\n",
    "    x = np.array([np.log(2),np.log(7),0])\n",
    "    y = softmax(x)\n",
    "    assert np.all(np.isclose( y, np.array([0.2, 0.7, 0.1]) )), y\n",
    "    print('Test passed', '\\U0001F44D')    \n",
    "if __name__==\"__main__\":\n",
    "    test_softmax()"
   ]
  },
  {
   "cell_type": "code",
   "execution_count": 13,
   "metadata": {
    "colab": {},
    "colab_type": "code",
    "id": "Iwi4QwxlOAOR"
   },
   "outputs": [],
   "source": [
    "def sigmoid_derivative(x):\n",
    "    '''\n",
    "    Input:\n",
    "        x: numpy array of any shape; it is sigmoid layer's output\n",
    "    Output:\n",
    "        y: numpy array of same shape as x; it is the derivative of sigmoid\n",
    "    '''\n",
    "    ### WRITE YOUR CODE HERE - 1 MARKS\n",
    "    y = sigmoid(x)*(1-sigmoid(x))\n",
    "    return y"
   ]
  },
  {
   "cell_type": "code",
   "execution_count": 14,
   "metadata": {},
   "outputs": [],
   "source": [
    "def cross_entropy(t, y):\n",
    "    '''\n",
    "    Input:\n",
    "        t: one hot matrix of shape N, M\n",
    "        y: softmax matrix of shape N, M\n",
    "    Output:\n",
    "        loss: a scalar which is the cross entropy loss between t and y\n",
    "    '''\n",
    "    N = t.shape[1]\n",
    "    loss = np.sum(np.multiply(t, -np.log(y)))/N\n",
    "    return loss"
   ]
  },
  {
   "cell_type": "code",
   "execution_count": 15,
   "metadata": {
    "colab": {},
    "colab_type": "code",
    "id": "FHBkTee0QlB2"
   },
   "outputs": [],
   "source": [
    "class NeuralNetwork:\n",
    "    def __init__(self, ni, nh, no):\n",
    "        '''   \n",
    "        Input:\n",
    "            ni: int, size of input layer\n",
    "            nh: int, size of hidden layer\n",
    "            no: int, size of output layer\n",
    "        Action:\n",
    "            Creates instance variables\n",
    "        NOTE: We do not use bias explicitly here. Input x can have the first element 1 to have a bias term.\n",
    "        '''\n",
    "        self.ni = ni\n",
    "        self.nh = nh\n",
    "        self.no = no\n",
    "        self.weights1 = []\n",
    "        self.weights2 = []\n",
    "        self.h1 = []\n",
    "        self.h2 = []\n",
    "        self.v1 = []\n",
    "        self.v2 = []\n",
    "        return\n",
    "    \n",
    "    def init_weights(self):\n",
    "        '''\n",
    "        Action:\n",
    "            Randomly initialize weights1 and weights2 with proper size random np arrays\n",
    "        '''\n",
    "        ### WRITE YOUR CODE HERE - 2 MARKS\n",
    "        self.weights1 = np.random.uniform(-1, 1, (self.nh, self.ni+1))\n",
    "        self.weights2 = np.random.uniform(-1, 1, (self.no, self.nh+1))\n",
    "    \n",
    "    def predict(self, x):\n",
    "        # Forward Prop\n",
    "        x = np.insert(x, 0, 1, axis=0)                      # inserts a row of 1s. This is for the bias\n",
    "        self.h1 = np.dot(self.weights1, x)\n",
    "        self.v1 = sigmoid(self.h1)\n",
    "        self.v1 = np.insert(self.v1, 0, 1, axis=0)          # inserts a row of 1s. This is for the bias\n",
    "        self.h2 = np.dot(self.weights2, self.v1)\n",
    "        self.v2 = softmax(self.h2)     \n",
    "        return self.v2\n",
    "    \n",
    "    def backprop(self, x, y, eta):\n",
    "        '''\n",
    "        # application of the chain rule to find derivative of the categorical cross entropy loss function with respect to weights2 and weights1\n",
    "        Input:\n",
    "            x: numpy array of shape (ni,1)\n",
    "            y: numpy array of shape (no,1)\n",
    "            eta: learning rate\n",
    "        Action:\n",
    "            # Finding the derivatives\n",
    "            del_weights2: np array that stores the derivative of the loss function with respect to weights2\n",
    "            del_weights1: np array that stores the derivative of the loss function with respect to weights1\n",
    "\n",
    "            # Update the weights with the derivative of the categorical cross entropy loss function\n",
    "              weights1 += eta*del_weights1\n",
    "              weights2 += eta*del_weights2\n",
    "        ''' \n",
    "\n",
    "        ### WRITE YOUR CODE HERE - 5 MARKS\n",
    "        \n",
    "        # Backward Prop\n",
    "        N = y.shape[1]\n",
    "        del_v2 = -(1/N)*y/self.v2                                    # Might result in integer overflow\n",
    "        del_h2 = (self.v2-y)/N\n",
    "        del_weights2 = np.dot(del_h2, self.v1.T) \n",
    "        del_v1 = np.dot(self.weights2.T, del_h2)\n",
    "        del_v1 = del_v1[1:]     \n",
    "        del_h1 = np.multiply(del_v1, sigmoid_derivative(self.h1))    # Remove the extra bias term                       \n",
    "        x = np.insert(x, 0, 1, axis=0)      \n",
    "        del_weights1 = np.dot(del_h1, x.T)\n",
    "        # Update\n",
    "        self.weights1 -= eta*del_weights1         \n",
    "        self.weights2 -= eta*del_weights2        \n",
    "        \n",
    "    def fit(self, X, t, eta, epochs):\n",
    "        '''\n",
    "        input:\n",
    "            X: training input data \n",
    "            t: training targets \n",
    "            eta: learning rate\n",
    "            epochs: number of epochs\n",
    "        Action:\n",
    "            train the weights\n",
    "        '''\n",
    "        ### WRITE YOUR CODE HERE - 5 MARKS\n",
    "        self.init_weights()\n",
    "        Epochs = [k for k in range(epochs)]\n",
    "        Losses = []\n",
    "        for epoch in Epochs:\n",
    "            y = self.predict(X)\n",
    "            Losses.append(cross_entropy(t, y))\n",
    "            self.backprop(X, t, eta) \n",
    "#             print(self.weights1)\n",
    "        return Epochs, Losses\n",
    "\n",
    "    def predict_label(self, x):    \n",
    "        '''\n",
    "        Output:\n",
    "            y: np array of index\n",
    "        '''\n",
    "        ### WRITE YOUR CODE HERE - 1 MARKS\n",
    "        \n",
    "        y = np.argmax(self.predict(x), axis=0)\n",
    "        return y"
   ]
  },
  {
   "cell_type": "code",
   "execution_count": 16,
   "metadata": {
    "colab": {},
    "colab_type": "code",
    "id": "fmR8F2JIFwqm"
   },
   "outputs": [],
   "source": [
    "### Lastly, report the accuracy of your model and print the Confusion Matrix\n",
    "\n",
    "# def one_hot_to_labels(y):\n",
    "#     # [[0, 0], [1, 0], [0, 1]] to [1, 2]\n",
    "#     return np.argmax(y, axis=0)\n",
    "\n",
    "def getCM(y, t):\n",
    "    '''\n",
    "    Inputs:\n",
    "        y: estimated labels np array (Nsample,1)\n",
    "        t: targets np array (Nsamples,1)\n",
    "    Outputs:\n",
    "        CM : np array of confusion matrix\n",
    "    '''\n",
    "    ### WRITE YOUR CODE HERE - 3 MARKS\n",
    "    N = max(t)+1\n",
    "    CM = np.zeros((N, N))   \n",
    "    for i in range(t.shape[0]): CM[t[i], y[i]] += 1\n",
    "    return CM\n",
    "            \n",
    "def getAccuracy(confusion_matrix):\n",
    "    true = 0\n",
    "    total = 0\n",
    "    for i in range(confusion_matrix.shape[0]):\n",
    "        for j in range(confusion_matrix.shape[1]):\n",
    "            if(i==j) : true+=confusion_matrix[i][i]\n",
    "            total+=confusion_matrix[i][j]\n",
    "    return true/total"
   ]
  },
  {
   "cell_type": "markdown",
   "metadata": {
    "colab_type": "text",
    "id": "t6jdQ8r2QlB7"
   },
   "source": [
    "#### Experiments\n",
    "Use the above functions to carry out the experiment:\n",
    "- load iris data and prepare it for NN\n",
    "- split randomly into 20% test data\n",
    "- create a NN with 1 hidden layer\n",
    "- train the network with training data\n",
    "- Plot loss w.r.t. number of epochs\n",
    "- Print confusion matrix on test data"
   ]
  },
  {
   "cell_type": "code",
   "execution_count": 17,
   "metadata": {
    "colab": {},
    "colab_type": "code",
    "id": "hewsBv12weZ2"
   },
   "outputs": [
    {
     "name": "stdout",
     "output_type": "stream",
     "text": [
      "Confusion Matrix : \n",
      "[[10.  0.  0.]\n",
      " [ 0.  9.  1.]\n",
      " [ 0.  0. 10.]]\n",
      "Accuracy :  0.9666666666666667\n"
     ]
    },
    {
     "data": {
      "image/png": "[encoded data removed]",
      "text/plain": [
       "<Figure size 720x360 with 1 Axes>"
      ]
     },
     "metadata": {
      "needs_background": "light"
     },
     "output_type": "display_data"
    }
   ],
   "source": [
    "def experiment():\n",
    "    ### WRITE YOUR CODE HERE - 10 MARKS\n",
    "    # Load Iris Data\n",
    "    X, t = loadIrisData()\n",
    "    N_classes = np.max(t)+1\n",
    "    t1hot = one_hot_encoding(t, N_classes)\n",
    "    \n",
    "    # Split into 20% Test Data, Normalize and One Hot\n",
    "    X_train, t_train, X_test, t_test = splitData(X, t, testFraction=0.2)\n",
    "    X_train_normalized, X_test_normalized = normalizeX(X_train, X_test)\n",
    "    t1hot_train = one_hot_encoding(t_train, N_classes)\n",
    "    t1hot_test = one_hot_encoding(t_test, N_classes)\n",
    "    \n",
    "    # Create NN with 1 Hidden Layer\n",
    "    ni = X.shape[1]            # 4\n",
    "    nh = 4                     # This is a hyperparameter\n",
    "    no = N_classes             # 3\n",
    "    \n",
    "    # Train NN with Train Data\n",
    "    NN = NeuralNetwork(ni, nh, no)\n",
    "    eta = 0.01\n",
    "    epochs = 10000\n",
    "    Epochs, Losses = NN.fit(X_train_normalized.T, t1hot_train.T, eta, epochs)\n",
    "    \n",
    "    # Plot Loss versus Epochs\n",
    "    figure = plt.figure(figsize=(10, 5))\n",
    "    plt.plot(Epochs, Losses)\n",
    "    figure.suptitle('Cross Entropy Loss during Training', fontsize=20)\n",
    "    plt.xlabel('Epochs', fontsize=20)\n",
    "    plt.ylabel('Losses', fontsize=20)\n",
    "    \n",
    "    # Print Confusion matrix and Accuracy\n",
    "    y_test = NN.predict_label(X_test_normalized.T)\n",
    "    # print(t_test, y_test)\n",
    "    confusion_matrix = getCM(y_test, t_test)\n",
    "    print(\"Confusion Matrix : \") \n",
    "    print(confusion_matrix)\n",
    "    print(\"Accuracy : \", getAccuracy(confusion_matrix))\n",
    "        \n",
    "if __name__==\"__main__\":\n",
    "    experiment()"
   ]
  },
  {
   "cell_type": "code",
   "execution_count": null,
   "metadata": {},
   "outputs": [],
   "source": []
  }
 ],
 "metadata": {
  "colab": {
   "collapsed_sections": [],
   "name": "YourRollNo.ipynb",
   "provenance": [],
   "version": "0.3.2"
  },
  "kernelspec": {
   "display_name": "Python 3",
   "language": "python",
   "name": "python3"
  },
  "language_info": {
   "codemirror_mode": {
    "name": "ipython",
    "version": 3
   },
   "file_extension": ".py",
   "mimetype": "text/x-python",
   "name": "python",
   "nbconvert_exporter": "python",
   "pygments_lexer": "ipython3",
   "version": "3.6.8"
  }
 },
 "nbformat": 4,
 "nbformat_minor": 2
}
