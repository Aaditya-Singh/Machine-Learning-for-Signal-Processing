{
 "cells": [
  {
   "cell_type": "markdown",
   "metadata": {
    "colab": {},
    "colab_type": "code",
    "id": "jLDisQ6gAaMQ"
   },
   "source": [
    "## Part 2 : With Keras Library"
   ]
  },
  {
   "cell_type": "code",
   "execution_count": 1,
   "metadata": {},
   "outputs": [
    {
     "name": "stderr",
     "output_type": "stream",
     "text": [
      "Using TensorFlow backend.\n"
     ]
    }
   ],
   "source": [
    "## Import \n",
    "import numpy as np\n",
    "import matplotlib.pyplot as plt\n",
    "import sklearn\n",
    "from sklearn.datasets import load_iris\n",
    "# Keras\n",
    "import keras\n",
    "from keras.models import Sequential\n",
    "from keras.layers import Dense\n",
    "from keras.optimizers import SGD"
   ]
  },
  {
   "cell_type": "code",
   "execution_count": 2,
   "metadata": {
    "colab": {},
    "colab_type": "code",
    "id": "pwyZu2ibAhO1"
   },
   "outputs": [],
   "source": [
    "def loadIrisData():\n",
    "    iris = load_iris()\n",
    "    X=iris['data']\n",
    "    t=iris['target']\n",
    "    return X, t"
   ]
  },
  {
   "cell_type": "code",
   "execution_count": 3,
   "metadata": {
    "colab": {},
    "colab_type": "code",
    "id": "48_5__HzBks_"
   },
   "outputs": [],
   "source": [
    "def one_hot_encoding(t_indices, N):\n",
    "    t_1hot = np.zeros((len(t_indices), N))\n",
    "    for i in range(len(t_indices)) : t_1hot[i, t_indices[i]]=1\n",
    "    return t_1hot"
   ]
  },
  {
   "cell_type": "code",
   "execution_count": 4,
   "metadata": {
    "colab": {},
    "colab_type": "code",
    "id": "VXxxA2YkB_I8"
   },
   "outputs": [],
   "source": [
    "def splitData(X, t, testFraction=0.2):\n",
    "    N = len(t)\n",
    "    rand_indices = np.random.permutation(len(t))\n",
    "    M = int(N*(1-testFraction))\n",
    "    # Train Random\n",
    "    train_rand_indices = rand_indices[:M]\n",
    "    X_train = X[train_rand_indices]\n",
    "    t_train = t[train_rand_indices]\n",
    "    # Test Random\n",
    "    test_rand_indices = rand_indices[M:]\n",
    "    X_test = X[test_rand_indices]\n",
    "    t_test = t[test_rand_indices]\n",
    "    return X_train, t_train, X_test, t_test"
   ]
  },
  {
   "cell_type": "code",
   "execution_count": 5,
   "metadata": {
    "colab": {},
    "colab_type": "code",
    "id": "OK2lZ6ZpCjAg"
   },
   "outputs": [],
   "source": [
    "def normalizeX(X_train, X_test):\n",
    "    X_train_normalized = (X_train - X_train.mean(axis=0))/X_train.std(axis=0)\n",
    "    X_test_normalized = (X_test - X_train.mean(axis=0))/X_train.std(axis=0)\n",
    "    return X_train_normalized, X_test_normalized"
   ]
  },
  {
   "cell_type": "code",
   "execution_count": 6,
   "metadata": {
    "colab": {},
    "colab_type": "code",
    "id": "fmR8F2JIFwqm"
   },
   "outputs": [],
   "source": [
    "## Confusion Matrix and Accuracy\n",
    "def getCM(y, t):\n",
    "    N = max(t)+1\n",
    "    CM = np.zeros((N, N))   \n",
    "    for i in range(t.shape[0]): CM[t[i], y[i]] += 1\n",
    "    return CM\n",
    "            \n",
    "def getAccuracy(confusion_matrix):\n",
    "    true = 0\n",
    "    total = 0\n",
    "    for i in range(confusion_matrix.shape[0]):\n",
    "        for j in range(confusion_matrix.shape[1]):\n",
    "            if(i==j) : true+=confusion_matrix[i][i]\n",
    "            total+=confusion_matrix[i][j]\n",
    "    return true/total"
   ]
  },
  {
   "cell_type": "code",
   "execution_count": 7,
   "metadata": {},
   "outputs": [
    {
     "name": "stdout",
     "output_type": "stream",
     "text": [
      "(120, 4) (120, 3)\n"
     ]
    }
   ],
   "source": [
    "# Load Iris Data\n",
    "X, t = loadIrisData()\n",
    "N = np.max(t)+1\n",
    "t1hot = one_hot_encoding(t, N)\n",
    "# Split into 20% Test Data, Normalize and One Hot\n",
    "X_train, t_train, X_test, t_test = splitData(X, t, testFraction=0.2)\n",
    "X_train_normalized, X_test_normalized = normalizeX(X_train, X_test)\n",
    "t1hot_train = one_hot_encoding(t_train, N)\n",
    "# print(t1hot_train)\n",
    "t1hot_test = one_hot_encoding(t_test, N)\n",
    "print(X_train.shape, t1hot_train.shape)"
   ]
  },
  {
   "cell_type": "code",
   "execution_count": 8,
   "metadata": {},
   "outputs": [
    {
     "name": "stderr",
     "output_type": "stream",
     "text": [
      "WARNING: Logging before flag parsing goes to stderr.\n",
      "W0913 00:06:57.747652 4565378496 deprecation_wrapper.py:119] From /anaconda3/lib/python3.6/site-packages/keras/backend/tensorflow_backend.py:74: The name tf.get_default_graph is deprecated. Please use tf.compat.v1.get_default_graph instead.\n",
      "\n",
      "W0913 00:06:57.768240 4565378496 deprecation_wrapper.py:119] From /anaconda3/lib/python3.6/site-packages/keras/backend/tensorflow_backend.py:517: The name tf.placeholder is deprecated. Please use tf.compat.v1.placeholder instead.\n",
      "\n",
      "W0913 00:06:57.771930 4565378496 deprecation_wrapper.py:119] From /anaconda3/lib/python3.6/site-packages/keras/backend/tensorflow_backend.py:4138: The name tf.random_uniform is deprecated. Please use tf.random.uniform instead.\n",
      "\n",
      "W0913 00:06:57.840101 4565378496 deprecation_wrapper.py:119] From /anaconda3/lib/python3.6/site-packages/keras/optimizers.py:790: The name tf.train.Optimizer is deprecated. Please use tf.compat.v1.train.Optimizer instead.\n",
      "\n",
      "W0913 00:06:57.849029 4565378496 deprecation_wrapper.py:119] From /anaconda3/lib/python3.6/site-packages/keras/backend/tensorflow_backend.py:3295: The name tf.log is deprecated. Please use tf.math.log instead.\n",
      "\n"
     ]
    },
    {
     "name": "stdout",
     "output_type": "stream",
     "text": [
      "_________________________________________________________________\n",
      "Layer (type)                 Output Shape              Param #   \n",
      "=================================================================\n",
      "dense_1 (Dense)              (None, 4)                 20        \n",
      "_________________________________________________________________\n",
      "dense_2 (Dense)              (None, 3)                 15        \n",
      "=================================================================\n",
      "Total params: 35\n",
      "Trainable params: 35\n",
      "Non-trainable params: 0\n",
      "_________________________________________________________________\n"
     ]
    },
    {
     "name": "stderr",
     "output_type": "stream",
     "text": [
      "W0913 00:06:57.970849 4565378496 deprecation.py:323] From /anaconda3/lib/python3.6/site-packages/tensorflow/python/ops/math_grad.py:1250: add_dispatch_support.<locals>.wrapper (from tensorflow.python.ops.array_ops) is deprecated and will be removed in a future version.\n",
      "Instructions for updating:\n",
      "Use tf.where in 2.0, which has the same broadcast rule as np.where\n",
      "W0913 00:06:58.105026 4565378496 deprecation_wrapper.py:119] From /anaconda3/lib/python3.6/site-packages/keras/backend/tensorflow_backend.py:986: The name tf.assign_add is deprecated. Please use tf.compat.v1.assign_add instead.\n",
      "\n"
     ]
    }
   ],
   "source": [
    "## Categorical Cross Entropy\n",
    "Cross_Entropy_Softmax_Model = Sequential()\n",
    "Cross_Entropy_Softmax_Model.add(Dense(4, input_dim=4, activation='sigmoid'))\n",
    "Cross_Entropy_Softmax_Model.add(Dense(3, activation='softmax'))\n",
    "Cross_Entropy_Softmax_Model.summary()\n",
    "\n",
    "# Fit Model\n",
    "sgd = SGD(lr=0.01, decay=0, momentum=0.9, nesterov=False)\n",
    "Cross_Entropy_Softmax_Model.compile(loss='categorical_crossentropy', optimizer=sgd, metrics=['accuracy'])\n",
    "Epoch = 1000\n",
    "History = Cross_Entropy_Softmax_Model.fit(X_train_normalized, t1hot_train, epochs=Epoch, \n",
    "                                          verbose=0, batch_size=32)\n",
    "\n",
    "epochs = [k for k in range(Epoch)]\n",
    "losses = History.history['loss']"
   ]
  },
  {
   "cell_type": "code",
   "execution_count": 9,
   "metadata": {},
   "outputs": [
    {
     "name": "stdout",
     "output_type": "stream",
     "text": [
      "Confusion Matrix : \n",
      "[[11.  0.  0.]\n",
      " [ 0.  7.  0.]\n",
      " [ 0.  1. 11.]]\n",
      "Accuracy :  0.9666666666666667\n"
     ]
    },
    {
     "data": {
      "image/png": "[encoded data removed]",
      "text/plain": [
       "<Figure size 720x360 with 1 Axes>"
      ]
     },
     "metadata": {
      "needs_background": "light"
     },
     "output_type": "display_data"
    }
   ],
   "source": [
    "# Plot Loss versus Epochs\n",
    "figure = plt.figure(figsize=(10, 5))\n",
    "plt.plot(epochs, losses)\n",
    "figure.suptitle('Categorical Cross Entropy Loss', fontsize=20)\n",
    "plt.xlabel('Epochs', fontsize=20)\n",
    "plt.ylabel('Losses', fontsize=20)\n",
    "    \n",
    "# Print Confusion matrix\n",
    "y1hot_test = Cross_Entropy_Softmax_Model.predict(X_test_normalized)\n",
    "y_test = np.argmax(y1hot_test.T, axis=0)\n",
    "# print(t_test, y_test)\n",
    "confusion_matrix = getCM(y_test, t_test)\n",
    "print(\"Confusion Matrix : \") \n",
    "print(confusion_matrix)\n",
    "print(\"Accuracy : \", getAccuracy(confusion_matrix))"
   ]
  },
  {
   "cell_type": "code",
   "execution_count": 10,
   "metadata": {},
   "outputs": [
    {
     "name": "stdout",
     "output_type": "stream",
     "text": [
      "_________________________________________________________________\n",
      "Layer (type)                 Output Shape              Param #   \n",
      "=================================================================\n",
      "dense_3 (Dense)              (None, 4)                 20        \n",
      "_________________________________________________________________\n",
      "dense_4 (Dense)              (None, 3)                 15        \n",
      "=================================================================\n",
      "Total params: 35\n",
      "Trainable params: 35\n",
      "Non-trainable params: 0\n",
      "_________________________________________________________________\n"
     ]
    }
   ],
   "source": [
    "## Mean Squared\n",
    "Mean_Squared_Sigmoid_Model = Sequential()\n",
    "Mean_Squared_Sigmoid_Model.add(Dense(4, input_dim=4, activation='sigmoid'))\n",
    "Mean_Squared_Sigmoid_Model.add(Dense(3, activation='sigmoid'))\n",
    "Mean_Squared_Sigmoid_Model.summary()\n",
    "\n",
    "# Fit Model\n",
    "sgd = SGD(lr=0.01, decay=0, momentum=0.9, nesterov=False)\n",
    "Mean_Squared_Sigmoid_Model.compile(loss='mean_squared_error', optimizer=sgd, metrics=['accuracy'])\n",
    "Epoch = 1000\n",
    "History = Mean_Squared_Sigmoid_Model.fit(X_train_normalized, t1hot_train, epochs=Epoch, \n",
    "                                         verbose=0, batch_size=32)\n",
    "\n",
    "epochs = [k for k in range(Epoch)]\n",
    "losses = History.history['loss']"
   ]
  },
  {
   "cell_type": "code",
   "execution_count": 11,
   "metadata": {},
   "outputs": [
    {
     "name": "stdout",
     "output_type": "stream",
     "text": [
      "Confusion Matrix : \n",
      "[[11.  0.  0.]\n",
      " [ 0.  6.  1.]\n",
      " [ 0.  1. 11.]]\n",
      "Accuracy :  0.9333333333333333\n"
     ]
    },
    {
     "data": {
      "image/png": "[encoded data removed]",
      "text/plain": [
       "<Figure size 720x360 with 1 Axes>"
      ]
     },
     "metadata": {
      "needs_background": "light"
     },
     "output_type": "display_data"
    }
   ],
   "source": [
    "# Plot Loss versus Epochs\n",
    "figure = plt.figure(figsize=(10, 5))\n",
    "plt.plot(epochs, losses)\n",
    "figure.suptitle('Mean Squared Error Loss', fontsize=20)\n",
    "plt.xlabel('Epochs', fontsize=20)\n",
    "plt.ylabel('Losses', fontsize=20)\n",
    "    \n",
    "# Print Confusion matrix\n",
    "y1hot_test = Mean_Squared_Sigmoid_Model.predict(X_test_normalized)\n",
    "y_test = np.argmax(y1hot_test.T, axis=0)\n",
    "# print(t_test, y_test)\n",
    "confusion_matrix = getCM(y_test, t_test)\n",
    "print(\"Confusion Matrix : \") \n",
    "print(confusion_matrix)\n",
    "print(\"Accuracy : \", getAccuracy(confusion_matrix))"
   ]
  },
  {
   "cell_type": "code",
   "execution_count": null,
   "metadata": {},
   "outputs": [],
   "source": []
  }
 ],
 "metadata": {
  "colab": {
   "collapsed_sections": [],
   "name": "YourRollNo.ipynb",
   "provenance": [],
   "version": "0.3.2"
  },
  "kernelspec": {
   "display_name": "Python 3",
   "language": "python",
   "name": "python3"
  },
  "language_info": {
   "codemirror_mode": {
    "name": "ipython",
    "version": 3
   },
   "file_extension": ".py",
   "mimetype": "text/x-python",
   "name": "python",
   "nbconvert_exporter": "python",
   "pygments_lexer": "ipython3",
   "version": "3.6.8"
  }
 },
 "nbformat": 4,
 "nbformat_minor": 2
}
