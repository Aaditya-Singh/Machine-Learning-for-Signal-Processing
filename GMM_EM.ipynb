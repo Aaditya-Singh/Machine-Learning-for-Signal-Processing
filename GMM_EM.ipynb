{
 "cells": [
  {
   "cell_type": "markdown",
   "metadata": {
    "colab_type": "text",
    "id": "larcswQyQnfR"
   },
   "source": [
    "# Model the Data\n",
    "Given a set of scalar data, you can model it with a suitable pdf. This exercise will help you learn the following:\n",
    "- How would you choose the best model to fit the given data?\n",
    "- How would you estimate the model parameters from the given data?\n",
    "- Given a model, how do you sample new data from it?\n",
    "\n",
    "Note: You are allowed to use only numpy and matplotlib libraries. No ML library."
   ]
  },
  {
   "cell_type": "code",
   "execution_count": 1,
   "metadata": {
    "colab": {},
    "colab_type": "code",
    "id": "7jfD9_koQnfT"
   },
   "outputs": [],
   "source": [
    "import numpy as np\n",
    "np.random.seed(111)"
   ]
  },
  {
   "cell_type": "code",
   "execution_count": 2,
   "metadata": {
    "colab": {},
    "colab_type": "code",
    "id": "LGWJ09YXQnfY"
   },
   "outputs": [],
   "source": [
    "def data2gaussian(S):\n",
    "    '''\n",
    "    Return optimal parameters - (mu,sigma)\n",
    "    Inputs:\n",
    "        S: np array of shape (Ns,). These are samples of a random variable.\n",
    "    Outputs:\n",
    "        mu: float\n",
    "        sigma: float\n",
    "    '''\n",
    "\n",
    "    ### WRITE YOUR CODE HERE - 5 MARKS\n",
    "    mu = np.mean(S)\n",
    "    sigma = np.mean(np.square(S-mu))\n",
    "    return mu, sigma"
   ]
  },
  {
   "cell_type": "code",
   "execution_count": 3,
   "metadata": {
    "colab": {
     "base_uri": "https://localhost:8080/",
     "height": 52
    },
    "colab_type": "code",
    "id": "P6wPZPD0Qnfb",
    "outputId": "e9c3b0ae-ec40-4933-951b-2aaceea48861"
   },
   "outputs": [
    {
     "name": "stdout",
     "output_type": "stream",
     "text": [
      "0.06000000000000001 0.038400000000000004\n",
      "Test passed 👍\n"
     ]
    }
   ],
   "source": [
    "def test_data2gaussian(): # checks formatting only\n",
    "    S = [0.1,-0.2,0.4,0,0]\n",
    "    mu, sigma = data2gaussian(S)\n",
    "    print(mu,sigma)\n",
    "    assert isinstance(mu, (int, float))\n",
    "    assert isinstance(sigma, (int, float))\n",
    "    print('Test passed', '\\U0001F44D')\n",
    "if __name__==\"__main__\":\n",
    "    test_data2gaussian()"
   ]
  },
  {
   "cell_type": "code",
   "execution_count": 4,
   "metadata": {
    "colab": {},
    "colab_type": "code",
    "id": "aHZmP7xSQnfe"
   },
   "outputs": [],
   "source": [
    "def data2laplacian(S):\n",
    "    '''\n",
    "    Return optimal parameters - (mu,b). See https://en.wikipedia.org/wiki/Laplace_distribution\n",
    "    Inputs:\n",
    "        S: np array of shape (Ns,). These are samples of a random variable.\n",
    "    Outputs:\n",
    "        mu: float\n",
    "        b: float\n",
    "    '''\n",
    "\n",
    "    ### WRITE YOUR CODE HERE - 5 MARKS\n",
    "    mu = np.median(S)\n",
    "    b = np.mean(np.absolute(S-mu))\n",
    "    return mu, b"
   ]
  },
  {
   "cell_type": "code",
   "execution_count": 5,
   "metadata": {
    "colab": {
     "base_uri": "https://localhost:8080/",
     "height": 52
    },
    "colab_type": "code",
    "id": "QJFHfJIIQnfg",
    "outputId": "ccde68e9-f86e-4c00-e918-d92665fac2fc"
   },
   "outputs": [
    {
     "name": "stdout",
     "output_type": "stream",
     "text": [
      "0.0 0.14\n",
      "Test passed 👍\n"
     ]
    }
   ],
   "source": [
    "def test_data2laplacian(): # checks formatting only\n",
    "    S = [0.1,-0.2,0.4,0,0]\n",
    "    mu, b = data2laplacian(S)\n",
    "    print(mu,b)\n",
    "    assert isinstance(mu, (int, float))\n",
    "    assert isinstance(b, (int, float))\n",
    "    print('Test passed', '\\U0001F44D')\n",
    "if __name__==\"__main__\":\n",
    "    test_data2laplacian()"
   ]
  },
  {
   "cell_type": "code",
   "execution_count": 6,
   "metadata": {
    "colab": {},
    "colab_type": "code",
    "id": "GsulbgyqQnfi"
   },
   "outputs": [],
   "source": [
    "def data2uniform(S):\n",
    "    '''\n",
    "    Return optimal parameters - (a,b)\n",
    "    Inputs:\n",
    "        S: np array of shape (Ns,). These are samples of a random variable.\n",
    "    Outputs:\n",
    "        a: float\n",
    "        b: float\n",
    "    '''\n",
    "\n",
    "    ### WRITE YOUR CODE HERE - 5 MARKS\n",
    "    b = np.max(S)\n",
    "    a = np.min(S)\n",
    "    return a, b "
   ]
  },
  {
   "cell_type": "code",
   "execution_count": 7,
   "metadata": {
    "colab": {
     "base_uri": "https://localhost:8080/",
     "height": 52
    },
    "colab_type": "code",
    "id": "Au0r3jpSQnfk",
    "outputId": "3d03b496-a9dc-4d11-8466-0d98868ed72d"
   },
   "outputs": [
    {
     "name": "stdout",
     "output_type": "stream",
     "text": [
      "-0.2 0.4\n",
      "Test passed 👍\n"
     ]
    }
   ],
   "source": [
    "def test_data2uniform(): # checks formatting only\n",
    "    S = [0.1,-0.2,0.4,0,0]\n",
    "    a, b = data2uniform(S)\n",
    "    print(a,b)\n",
    "    assert isinstance(a, (int, float))\n",
    "    assert isinstance(b, (int, float))\n",
    "    print('Test passed', '\\U0001F44D')\n",
    "if __name__==\"__main__\":\n",
    "    test_data2uniform()"
   ]
  },
  {
   "cell_type": "code",
   "execution_count": 13,
   "metadata": {
    "colab": {},
    "colab_type": "code",
    "id": "NxgEO0ogQnfn"
   },
   "outputs": [],
   "source": [
    "# Distributions\n",
    "def gaussian(x, mu, sigma):\n",
    "    return np.exp(-0.5*((x-mu)/sigma)**2)/(sigma*np.sqrt(2*np.pi))\n",
    "\n",
    "def laplacian(x, mu, b):\n",
    "    return np.exp(-np.abs(x-mu)/b)/(2*b)\n",
    "\n",
    "def uniform(x, a, b):\n",
    "    return 1/(b-a)\n",
    "\n",
    "# Likelihoods\n",
    "def gaussian_likelihood(S, mu, sigma):\n",
    "    p=1\n",
    "    for n in range(len(S)):\n",
    "        p*=gaussian(S[n], mu, sigma)\n",
    "    return p\n",
    "\n",
    "def laplacian_likelihood(S, mu, b):\n",
    "    p=1\n",
    "    for n in range(len(S)):\n",
    "        p*=laplacian(S[n], mu, b)\n",
    "    return p\n",
    "\n",
    "def uniform_likelihood(S, a, b):\n",
    "    p=1\n",
    "    for n in range(len(S)):\n",
    "        p*=uniform(S[n], a, b)\n",
    "    return p\n",
    "\n",
    "# Choose the model which maximises the likelihood\n",
    "def data2model(S):\n",
    "    '''\n",
    "    Inputs:\n",
    "        S: np array of shape (Ns,). These are scalar samples of a random variable.\n",
    "    Outputs:\n",
    "        modelName: return one out of these - 'gaussian', 'laplacian', or \n",
    "                   'uniform' which best models the data\n",
    "    '''\n",
    "\n",
    "    ### WRITE YOUR CODE HERE - 10 MARKS    \n",
    "    # gaussian\n",
    "    mu, sigma = data2gaussian(S)\n",
    "    gauss_like = gaussian_likelihood(S, mu, sigma)\n",
    "    # laplacian\n",
    "    mu, b = data2laplacian(S)\n",
    "    lap_like = laplacian_likelihood(S, mu, b)\n",
    "    # uniform\n",
    "    a, b = data2uniform(S)\n",
    "    uni_like = uniform_likelihood(S, a, b)\n",
    "\n",
    "    list_of_likelihoods = [gauss_like, lap_like, uni_like]\n",
    "    list_of_modelNames = ['gaussian', 'laplacian', 'uniform']\n",
    "    modelName = list_of_modelNames[np.argmax(list_of_likelihoods)]\n",
    "    print(modelName)\n",
    "    return modelName"
   ]
  },
  {
   "cell_type": "code",
   "execution_count": 14,
   "metadata": {
    "colab": {
     "base_uri": "https://localhost:8080/",
     "height": 52
    },
    "colab_type": "code",
    "id": "r-sioKOdQnfp",
    "outputId": "a59e4953-7da8-4a24-ff55-5cb9e3c74e30"
   },
   "outputs": [
    {
     "name": "stdout",
     "output_type": "stream",
     "text": [
      "uniform\n",
      "Test passed 👍\n"
     ]
    }
   ],
   "source": [
    "def test_data2model(): # checks formatting only\n",
    "    S = [0.1,-0.2,0.4,0,0]\n",
    "    modelName = data2model(S)\n",
    "    assert modelName in ['gaussian', 'laplacian', 'uniform']\n",
    "    print('Test passed', '\\U0001F44D')\n",
    "if __name__==\"__main__\":\n",
    "    test_data2model()"
   ]
  },
  {
   "cell_type": "code",
   "execution_count": 15,
   "metadata": {
    "colab": {},
    "colab_type": "code",
    "id": "SzHJM_h3Qnfr"
   },
   "outputs": [],
   "source": [
    "def sampleGMM(pi, mu, sigma, Ns=1):\n",
    "    '''\n",
    "    Inputs:\n",
    "        pi: np.array of shape (K,), p(z_k)\n",
    "        mu: np.array of shape (K,), mu of kth gaussian\n",
    "        sigma: np.array of shape (K,), sigma of kth gaussian\n",
    "        Ns: int, number of samples\n",
    "    Outputs:\n",
    "        S: np.array of shape (Ns,), samples from the GMM\n",
    "    '''\n",
    "    ### WRITE YOUR CODE HERE - 10 MARKS\n",
    "    # Create array of pairs of mu's and sigma's of length Ns\n",
    "    indices = []\n",
    "    for k in range(len(pi)): indices.append(k)\n",
    "    sampled_indices = np.random.choice(indices, size=Ns, p=pi)\n",
    "    \n",
    "    # Obtain a single sample from each of the Ns mu and sigma pairs\n",
    "    S = []\n",
    "    for n in range(Ns):\n",
    "        S = np.concatenate((S, np.random.normal(loc=mu[sampled_indices[n]], scale=sigma[sampled_indices[n]], size=1)), axis=0)\n",
    "    return S"
   ]
  },
  {
   "cell_type": "code",
   "execution_count": 16,
   "metadata": {
    "colab": {
     "base_uri": "https://localhost:8080/",
     "height": 35
    },
    "colab_type": "code",
    "id": "754yU8vdQnft",
    "outputId": "86349ef8-8e0a-4249-ee74-c1ddf6913f0c"
   },
   "outputs": [
    {
     "name": "stdout",
     "output_type": "stream",
     "text": [
      "Test passed 👍\n"
     ]
    }
   ],
   "source": [
    "def test_sampleGMM(): # checks formatting only\n",
    "    pi = [0.3,0.7]\n",
    "    mu = [-1.1, 1.3]\n",
    "    sigma = [1.5, 0.4]\n",
    "    Ns = 5\n",
    "    S = sampleGMM(pi, mu, sigma, Ns)\n",
    "    assert S.shape==(5,)\n",
    "    print('Test passed', '\\U0001F44D')\n",
    "if __name__==\"__main__\":\n",
    "    test_sampleGMM()"
   ]
  },
  {
   "cell_type": "code",
   "execution_count": 70,
   "metadata": {
    "colab": {},
    "colab_type": "code",
    "id": "4ybcBNhOQnfv"
   },
   "outputs": [],
   "source": [
    "# 2dgaussian\n",
    "def twodgaussian(n, k, S, mu, sigma):\n",
    "    mu_k = mu[k]\n",
    "    sigma_k = sigma[k]\n",
    "    d = S.shape[1]\n",
    "    return np.exp(-0.5*np.dot(S[n].T-mu_k.T, np.dot(np.linalg.inv(sigma_k), S[n]-mu_k)))/(((np.sqrt(2*np.pi))**d)*np.linalg.det(sigma_k))\n",
    "\n",
    "# Y_nk\n",
    "def create_gamma_nk(n, k, S, pi, mu, sigma):\n",
    "    K = pi.shape[0]\n",
    "    denominator=0\n",
    "    for k_prime in range(K):\n",
    "        if(k==k_prime) : numerator = pi[k_prime]*twodgaussian(n, k_prime, S, mu, sigma)\n",
    "        denominator+=pi[k_prime]*twodgaussian(n, k_prime, S, mu, sigma)\n",
    "    if(denominator==0) : return 0\n",
    "    else : return numerator/denominator\n",
    "\n",
    "# Y\n",
    "def create_gamma(Ns, K, S, pi, mu, sigma):\n",
    "    Y = np.zeros((Ns, K))\n",
    "    for n in range(Ns):\n",
    "        for k in range(K): Y[n][k]=create_gamma_nk(n, k, S, pi, mu, sigma)\n",
    "    return Y\n",
    "\n",
    "# pi\n",
    "def update_pi(Ns, K, Y, pi):\n",
    "    for k in range(K): \n",
    "        N_k = np.sum(Y[:, k])\n",
    "        pi[k]=N_k/Ns\n",
    "\n",
    "# mu\n",
    "def update_mu(Ns, K, Y, S, mu):\n",
    "    for k in range(K):\n",
    "        N_k = np.sum(Y[:, k])\n",
    "        for n in range(Ns):\n",
    "            if(n==0) : numerator = Y[n][k]*S[n]\n",
    "            else : numerator += Y[n][k]*S[n]\n",
    "        mu[k]=numerator/N_k\n",
    "    \n",
    "# sigma\n",
    "def update_sigma(Ns, K, Y, S, mu, sigma):\n",
    "    for k in range(K):\n",
    "        N_k = np.sum(Y[:, k])\n",
    "        for n in range(Ns):\n",
    "            if(n==0) : numerator = Y[n][k]*np.outer(S[n]-mu[k], S[n]-mu[k])\n",
    "            else : numerator += Y[n][k]*np.outer(S[n]-mu[k], S[n]-mu[k])\n",
    "        sigma[k]=numerator/N_k\n",
    "\n",
    "# update\n",
    "def update(max_iter, threshold, Ns, K, S, pi, mu, sigma):\n",
    "    for iteration in range(max_iter):\n",
    "        pi_orig=pi\n",
    "        mu_orig=mu\n",
    "        sigma_orig=sigma\n",
    "        # Original\n",
    "        Y = create_gamma(Ns, K, S, pi, mu, sigma)\n",
    "        update_pi(Ns, K, Y, pi)\n",
    "        update_mu(Ns, K, Y, S, mu)\n",
    "        update_sigma(Ns, K, Y, S, mu, sigma)\n",
    "        # Updated\n",
    "        pi_upd=pi\n",
    "        mu_upd=mu\n",
    "        sigma_upd=sigma\n",
    "        if(np.all(abs(pi_upd-pi_orig))<threshold or np.all(abs(mu_upd-mu_orig))<threshold \n",
    "           or np.all(abs(sigma_upd-sigma_orig))<threshold) : return\n",
    "    \n",
    "def data2GMM(S, K):\n",
    "    '''\n",
    "    Return optimal parameters - (pi,mu,sigma)\n",
    "    Inputs:\n",
    "        S: np array of shape (Ns,Na). These are samples of a random variable. Na can be 1, 2 or 3\n",
    "    Outputs:\n",
    "        pi: np array of shape (K,)\n",
    "        mu: np array of shape (K, Na)\n",
    "        sigma: np array of shape (K,Na,Na)\n",
    "    '''\n",
    "    ### WRITE YOUR CODE HERE - 15 MARKS\n",
    "    Ns = S.shape[0]\n",
    "    Na = S.shape[1]\n",
    "    pi = np.random.uniform(low=0.0, high=2.0, size=(K))\n",
    "    mu = np.random.uniform(low=0.0, high=2.0, size=(K, Na))\n",
    "    sigma = np.random.uniform(low=0.0, high=2.0, size=(K, Na, Na))\n",
    "    max_iter=10000\n",
    "    threshold=1e-3\n",
    "    update(max_iter, threshold, Ns, K, S, pi, mu, sigma)\n",
    "    return pi, mu, sigma"
   ]
  },
  {
   "cell_type": "code",
   "execution_count": 71,
   "metadata": {
    "colab": {
     "base_uri": "https://localhost:8080/",
     "height": 69
    },
    "colab_type": "code",
    "id": "YVaAli8bQnfx",
    "outputId": "5236d560-69fe-46f1-965a-f8cf54202e89"
   },
   "outputs": [
    {
     "name": "stdout",
     "output_type": "stream",
     "text": [
      "Test passed 👍\n"
     ]
    }
   ],
   "source": [
    "def test_data2GMM(): # checks formatting only\n",
    "    S = np.random.random((10,3))\n",
    "    pi, mu, sigma = data2GMM(S,2)\n",
    "    assert pi.shape==(2,)\n",
    "    assert mu.shape==(2,3)\n",
    "    assert sigma.shape==(2,3,3)\n",
    "    print('Test passed', '\\U0001F44D')\n",
    "if __name__==\"__main__\":\n",
    "    test_data2GMM()"
   ]
  },
  {
   "cell_type": "code",
   "execution_count": null,
   "metadata": {
    "colab": {},
    "colab_type": "code",
    "id": "9ZuBhsUCNNgz"
   },
   "outputs": [],
   "source": []
  }
 ],
 "metadata": {
  "colab": {
   "name": "YourRollNo.ipynb",
   "provenance": []
  },
  "kernelspec": {
   "display_name": "Python 3",
   "language": "python",
   "name": "python3"
  },
  "language_info": {
   "codemirror_mode": {
    "name": "ipython",
    "version": 3
   },
   "file_extension": ".py",
   "mimetype": "text/x-python",
   "name": "python",
   "nbconvert_exporter": "python",
   "pygments_lexer": "ipython3",
   "version": "3.6.8"
  }
 },
 "nbformat": 4,
 "nbformat_minor": 2
}
